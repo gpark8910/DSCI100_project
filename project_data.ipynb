{
 "cells": [
  {
   "cell_type": "markdown",
   "metadata": {},
   "source": [
    "# Group 43 Project Proposal\n",
    "\n",
    "### Predictors of Student Performance in School\n",
    "\n",
    "For students, juggling high grades and a social life can be a stressful endeavor. Oftentimes students can overstudy for exams in order to achieve their desired grade. This leads to unneeded sacrifices being made in the other facets of a student's life. Performance in school often feels like a guessing game of whether you have put enough time into learning. Because of this, our group has decided to investigate what and how factors affect the performance of students in school (probably make more specific). We are trying to answer the question: what factors affect school performance the most (don't really know the question)? The data set we used is \"Students Performance Data Set\" compiled by Paulo Cortez, a professor at the Unversity of Minho in Portugal. This data set contains attributes about academic achievement, demographics, and the social and academic environment of a Portuguese language course, collected by survey in 2 Portuguese Secondary schools. "
   ]
  },
  {
   "cell_type": "markdown",
   "metadata": {},
   "source": [
    "### Preliminary Data Analysis"
   ]
  },
  {
   "cell_type": "code",
   "execution_count": 3,
   "metadata": {},
   "outputs": [],
   "source": [
    "# Required libraries\n",
    "library(tidyverse)\n",
    "library(repr)\n",
    "library(tidymodels)\n",
    "options(repr.matrix.max.rows = 6)"
   ]
  },
  {
   "cell_type": "code",
   "execution_count": 4,
   "metadata": {},
   "outputs": [
    {
     "name": "stderr",
     "output_type": "stream",
     "text": [
      "Parsed with column specification:\n",
      "cols(\n",
      "  .default = col_character(),\n",
      "  age = \u001b[32mcol_double()\u001b[39m,\n",
      "  Medu = \u001b[32mcol_double()\u001b[39m,\n",
      "  Fedu = \u001b[32mcol_double()\u001b[39m,\n",
      "  traveltime = \u001b[32mcol_double()\u001b[39m,\n",
      "  studytime = \u001b[32mcol_double()\u001b[39m,\n",
      "  failures = \u001b[32mcol_double()\u001b[39m,\n",
      "  famrel = \u001b[32mcol_double()\u001b[39m,\n",
      "  freetime = \u001b[32mcol_double()\u001b[39m,\n",
      "  goout = \u001b[32mcol_double()\u001b[39m,\n",
      "  Dalc = \u001b[32mcol_double()\u001b[39m,\n",
      "  Walc = \u001b[32mcol_double()\u001b[39m,\n",
      "  health = \u001b[32mcol_double()\u001b[39m,\n",
      "  absences = \u001b[32mcol_double()\u001b[39m,\n",
      "  G1 = \u001b[32mcol_double()\u001b[39m,\n",
      "  G2 = \u001b[32mcol_double()\u001b[39m,\n",
      "  G3 = \u001b[32mcol_double()\u001b[39m\n",
      ")\n",
      "\n",
      "See spec(...) for full column specifications.\n",
      "\n"
     ]
    },
    {
     "data": {
      "text/html": [
       "<table>\n",
       "<caption>A tibble: 649 × 6</caption>\n",
       "<thead>\n",
       "\t<tr><th scope=col>traveltime</th><th scope=col>studytime</th><th scope=col>freetime</th><th scope=col>goout</th><th scope=col>G1</th><th scope=col>G2</th></tr>\n",
       "\t<tr><th scope=col>&lt;dbl&gt;</th><th scope=col>&lt;dbl&gt;</th><th scope=col>&lt;dbl&gt;</th><th scope=col>&lt;dbl&gt;</th><th scope=col>&lt;dbl&gt;</th><th scope=col>&lt;dbl&gt;</th></tr>\n",
       "</thead>\n",
       "<tbody>\n",
       "\t<tr><td>2</td><td>2</td><td>3</td><td>4</td><td> 0</td><td>11</td></tr>\n",
       "\t<tr><td>1</td><td>2</td><td>3</td><td>3</td><td> 9</td><td>11</td></tr>\n",
       "\t<tr><td>1</td><td>2</td><td>3</td><td>2</td><td>12</td><td>13</td></tr>\n",
       "\t<tr><td>⋮</td><td>⋮</td><td>⋮</td><td>⋮</td><td>⋮</td><td>⋮</td></tr>\n",
       "\t<tr><td>2</td><td>2</td><td>1</td><td>1</td><td>11</td><td>12</td></tr>\n",
       "\t<tr><td>2</td><td>1</td><td>4</td><td>5</td><td>10</td><td>10</td></tr>\n",
       "\t<tr><td>3</td><td>1</td><td>4</td><td>1</td><td>10</td><td>11</td></tr>\n",
       "</tbody>\n",
       "</table>\n"
      ],
      "text/latex": [
       "A tibble: 649 × 6\n",
       "\\begin{tabular}{llllll}\n",
       " traveltime & studytime & freetime & goout & G1 & G2\\\\\n",
       " <dbl> & <dbl> & <dbl> & <dbl> & <dbl> & <dbl>\\\\\n",
       "\\hline\n",
       "\t 2 & 2 & 3 & 4 &  0 & 11\\\\\n",
       "\t 1 & 2 & 3 & 3 &  9 & 11\\\\\n",
       "\t 1 & 2 & 3 & 2 & 12 & 13\\\\\n",
       "\t ⋮ & ⋮ & ⋮ & ⋮ & ⋮ & ⋮\\\\\n",
       "\t 2 & 2 & 1 & 1 & 11 & 12\\\\\n",
       "\t 2 & 1 & 4 & 5 & 10 & 10\\\\\n",
       "\t 3 & 1 & 4 & 1 & 10 & 11\\\\\n",
       "\\end{tabular}\n"
      ],
      "text/markdown": [
       "\n",
       "A tibble: 649 × 6\n",
       "\n",
       "| traveltime &lt;dbl&gt; | studytime &lt;dbl&gt; | freetime &lt;dbl&gt; | goout &lt;dbl&gt; | G1 &lt;dbl&gt; | G2 &lt;dbl&gt; |\n",
       "|---|---|---|---|---|---|\n",
       "| 2 | 2 | 3 | 4 |  0 | 11 |\n",
       "| 1 | 2 | 3 | 3 |  9 | 11 |\n",
       "| 1 | 2 | 3 | 2 | 12 | 13 |\n",
       "| ⋮ | ⋮ | ⋮ | ⋮ | ⋮ | ⋮ |\n",
       "| 2 | 2 | 1 | 1 | 11 | 12 |\n",
       "| 2 | 1 | 4 | 5 | 10 | 10 |\n",
       "| 3 | 1 | 4 | 1 | 10 | 11 |\n",
       "\n"
      ],
      "text/plain": [
       "    traveltime studytime freetime goout G1 G2\n",
       "1   2          2         3        4      0 11\n",
       "2   1          2         3        3      9 11\n",
       "3   1          2         3        2     12 13\n",
       "⋮   ⋮          ⋮         ⋮        ⋮     ⋮  ⋮ \n",
       "647 2          2         1        1     11 12\n",
       "648 2          1         4        5     10 10\n",
       "649 3          1         4        1     10 11"
      ]
     },
     "metadata": {},
     "output_type": "display_data"
    }
   ],
   "source": [
    "# Reading the data set from the web into R\n",
    "student_data <- read_delim(\"https://raw.githubusercontent.com/gpark8910/DSCI100_project/main/student-por.csv\",\n",
    "                          delim = \";\") %>%\n",
    "    select(traveltime, studytime, freetime, goout, G1, G2)\n",
    "student_data"
   ]
  },
  {
   "cell_type": "code",
   "execution_count": null,
   "metadata": {},
   "outputs": [],
   "source": []
  }
 ],
 "metadata": {
  "kernelspec": {
   "display_name": "R",
   "language": "R",
   "name": "ir"
  },
  "language_info": {
   "codemirror_mode": "r",
   "file_extension": ".r",
   "mimetype": "text/x-r-source",
   "name": "R",
   "pygments_lexer": "r",
   "version": "4.0.0"
  }
 },
 "nbformat": 4,
 "nbformat_minor": 4
}
